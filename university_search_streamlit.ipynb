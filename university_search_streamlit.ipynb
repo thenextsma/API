{
 "cells": [
  {
   "cell_type": "code",
   "execution_count": 4,
   "id": "31163ab1",
   "metadata": {},
   "outputs": [],
   "source": [
    "from fastapi import FastAPI\n",
    "import requests\n",
    "import pandas as pd\n",
    "import streamlit as st\n",
    "\n",
    "app = FastAPI()\n",
    "\n",
    "# Define your FastAPI route\n",
    "@app.get(\"/universities/\")\n",
    "def get_universities(country: str):\n",
    "    url = f\"http://universities.hipolabs.com/search?country={country.replace(' ', '+')}\"\n",
    "    response = requests.get(url)\n",
    "    data = response.json()\n",
    "\n",
    "    df = pd.DataFrame(data)\n",
    "    \n",
    "    result_json = df.to_json(orient=\"records\")\n",
    "    \n",
    "    return result_json\n",
    "\n",
    "# Streamlit interface\n",
    "st.title('University Search')\n",
    "country = st.text_input('Enter a country name')\n",
    "if st.button('Search'):\n",
    "    df = pd.read_json(requests.get(f'http://127.0.0.1:8001/universities/?country={country}').json())\n",
    "    st.table(df)\n",
    "else:\n",
    "        st.error('Error')\n"
   ]
  },
  {
   "cell_type": "code",
   "execution_count": null,
   "id": "6e09d50f",
   "metadata": {},
   "outputs": [],
   "source": []
  }
 ],
 "metadata": {
  "kernelspec": {
   "display_name": "Python 3 (ipykernel)",
   "language": "python",
   "name": "python3"
  },
  "language_info": {
   "codemirror_mode": {
    "name": "ipython",
    "version": 3
   },
   "file_extension": ".py",
   "mimetype": "text/x-python",
   "name": "python",
   "nbconvert_exporter": "python",
   "pygments_lexer": "ipython3",
   "version": "3.11.3"
  }
 },
 "nbformat": 4,
 "nbformat_minor": 5
}
