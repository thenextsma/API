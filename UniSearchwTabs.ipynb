{
 "cells": [
  {
   "cell_type": "code",
   "execution_count": 1,
   "id": "0d73229c",
   "metadata": {},
   "outputs": [
    {
     "name": "stderr",
     "output_type": "stream",
     "text": [
      "2023-12-11 10:53:04.179 \n",
      "  \u001b[33m\u001b[1mWarning:\u001b[0m to view this Streamlit app on a browser, run it with the following\n",
      "  command:\n",
      "\n",
      "    streamlit run /Users/mustafa/anaconda3/lib/python3.11/site-packages/ipykernel_launcher.py [ARGUMENTS]\n"
     ]
    }
   ],
   "source": [
    "from fastapi import FastAPI\n",
    "import requests\n",
    "import pandas as pd\n",
    "import streamlit as st\n",
    "\n",
    "app = FastAPI()\n",
    "\n",
    "# Define your FastAPI route\n",
    "@app.get(\"/universities/\")\n",
    "def get_universities(country: str):\n",
    "    url = f\"http://universities.hipolabs.com/search?country={country.replace(' ', '+')}\"\n",
    "    response = requests.get(url)\n",
    "    data = response.json()\n",
    "\n",
    "    df = pd.DataFrame(data)\n",
    "    \n",
    "    result_json = df.to_json(orient=\"records\")\n",
    "    \n",
    "    return result_json\n",
    "\n",
    "st.title('University Search')\n",
    "\n",
    "# Add tabs\n",
    "tabs = st.tabs([\"Search Universities\", \"Contact Us\"])\n",
    "\n",
    "# First Tab: Search Universities\n",
    "if tabs[0]:\n",
    "    country = st.text_input('Enter a country name')\n",
    "    if st.button('Search'):\n",
    "        df = pd.read_json(requests.get(f'http://127.0.0.1:8001/universities/?country={country}').json())\n",
    "        st.table(df)\n",
    "    else:\n",
    "        st.error('Error')\n",
    "\n",
    "# Second Tab: Contact\n",
    "if tabs[1]:\n",
    "    st.write(\"Contact Us:\")\n",
    "    st.write(\"If you have any questions or need support, please email us at contact@example.com.\")\n"
   ]
  },
  {
   "cell_type": "code",
   "execution_count": null,
   "id": "0c6ac2aa",
   "metadata": {},
   "outputs": [],
   "source": []
  }
 ],
 "metadata": {
  "kernelspec": {
   "display_name": "Python 3 (ipykernel)",
   "language": "python",
   "name": "python3"
  },
  "language_info": {
   "codemirror_mode": {
    "name": "ipython",
    "version": 3
   },
   "file_extension": ".py",
   "mimetype": "text/x-python",
   "name": "python",
   "nbconvert_exporter": "python",
   "pygments_lexer": "ipython3",
   "version": "3.11.3"
  }
 },
 "nbformat": 4,
 "nbformat_minor": 5
}
